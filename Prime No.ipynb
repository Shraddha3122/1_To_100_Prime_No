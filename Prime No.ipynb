{
 "cells": [
  {
   "cell_type": "code",
   "execution_count": 6,
   "id": "1cf4f9ab",
   "metadata": {},
   "outputs": [
    {
     "name": "stdout",
     "output_type": "stream",
     "text": [
      "2 3 5 7 11 13 17 19 23 29 31 37 41 43 47 53 59 61 67 71 73 79 83 89 97 "
     ]
    }
   ],
   "source": [
    "def checkPrime(num):\n",
    "\n",
    "    #  0, 1 and negative numbers are not prime\n",
    "    if num < 2:\n",
    "        return 0\n",
    "    else:\n",
    "\n",
    "        # no need to run loop till num-1 as for any number x the numbers in\n",
    "        # the range(num/2 + 1, num) won't be divisible anyway\n",
    "        # Example 36 won't be divisible by anything b/w 19-35\n",
    "\n",
    "        x = num // 2\n",
    "        for j in range(2, x + 1):\n",
    "            if num % j == 0:\n",
    "                return 0\n",
    "\n",
    "    # the number would be prime if we reach here\n",
    "    return 1\n",
    "\n",
    "\n",
    "a, b = 1, 100\n",
    "for i in range(a, b + 1):\n",
    "    if checkPrime(i):\n",
    "        print(i, end=\" \")"
   ]
  },
  {
   "cell_type": "code",
   "execution_count": null,
   "id": "9116d651",
   "metadata": {},
   "outputs": [],
   "source": []
  }
 ],
 "metadata": {
  "kernelspec": {
   "display_name": "Python 3 (ipykernel)",
   "language": "python",
   "name": "python3"
  },
  "language_info": {
   "codemirror_mode": {
    "name": "ipython",
    "version": 3
   },
   "file_extension": ".py",
   "mimetype": "text/x-python",
   "name": "python",
   "nbconvert_exporter": "python",
   "pygments_lexer": "ipython3",
   "version": "3.9.12"
  }
 },
 "nbformat": 4,
 "nbformat_minor": 5
}
